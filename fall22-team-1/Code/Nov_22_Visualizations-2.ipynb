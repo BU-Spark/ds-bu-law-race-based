{
  "nbformat": 4,
  "nbformat_minor": 0,
  "metadata": {
    "colab": {
      "provenance": []
    },
    "kernelspec": {
      "name": "python3",
      "display_name": "Python 3"
    },
    "language_info": {
      "name": "python"
    }
  },
  "cells": [
    {
      "cell_type": "code",
      "source": [
        "import pandas as pd\n",
        "\n",
        "df = pd.read_csv('/content/Nov_22_CN_Names_Gender_CN_EN.csv')\n",
        "df.head()"
      ],
      "metadata": {
        "colab": {
          "base_uri": "https://localhost:8080/",
          "height": 268
        },
        "id": "2tJLU3s-2UR6",
        "outputId": "496c7fd3-433b-4a40-aa57-916874a55e78"
      },
      "execution_count": 11,
      "outputs": [
        {
          "output_type": "execute_result",
          "data": {
            "text/plain": [
              "  publication_id country english_names english_first_names inventor_country  \\\n",
              "0     US09532512      CN   Xie Yunlong             Yunlong               CN   \n",
              "1     US09532598      US   Liu Qiuming             Qiuming               CN   \n",
              "2     US09532599      CN   Liu Qiuming             Qiuming               CN   \n",
              "3     US09532602      CN   Liu Qiuming             Qiuming               CN   \n",
              "4     US09532631      WO     Gu Jiawei              Jiawei               CN   \n",
              "\n",
              "  worldwide_application original_names  year english_gender chinese_gender  \\\n",
              "0       CN104823754A/en            谢云龙  2017        unknown              M   \n",
              "1       CN205214206U/en            刘秋明  2017        unknown              M   \n",
              "2       CN203327956U/en            刘秋明  2017        unknown              M   \n",
              "3       CN203378559U/en            刘秋明  2017        unknown              M   \n",
              "4       CN105378583B/en            顾嘉唯  2017        unknown              M   \n",
              "\n",
              "   chinese_gender_prob  \n",
              "0             0.945586  \n",
              "1             0.500785  \n",
              "2             0.500785  \n",
              "3             0.500785  \n",
              "4             0.496414  "
            ],
            "text/html": [
              "\n",
              "  <div id=\"df-0e828ab9-11a3-4b96-a8bc-2240a7df45a8\">\n",
              "    <div class=\"colab-df-container\">\n",
              "      <div>\n",
              "<style scoped>\n",
              "    .dataframe tbody tr th:only-of-type {\n",
              "        vertical-align: middle;\n",
              "    }\n",
              "\n",
              "    .dataframe tbody tr th {\n",
              "        vertical-align: top;\n",
              "    }\n",
              "\n",
              "    .dataframe thead th {\n",
              "        text-align: right;\n",
              "    }\n",
              "</style>\n",
              "<table border=\"1\" class=\"dataframe\">\n",
              "  <thead>\n",
              "    <tr style=\"text-align: right;\">\n",
              "      <th></th>\n",
              "      <th>publication_id</th>\n",
              "      <th>country</th>\n",
              "      <th>english_names</th>\n",
              "      <th>english_first_names</th>\n",
              "      <th>inventor_country</th>\n",
              "      <th>worldwide_application</th>\n",
              "      <th>original_names</th>\n",
              "      <th>year</th>\n",
              "      <th>english_gender</th>\n",
              "      <th>chinese_gender</th>\n",
              "      <th>chinese_gender_prob</th>\n",
              "    </tr>\n",
              "  </thead>\n",
              "  <tbody>\n",
              "    <tr>\n",
              "      <th>0</th>\n",
              "      <td>US09532512</td>\n",
              "      <td>CN</td>\n",
              "      <td>Xie Yunlong</td>\n",
              "      <td>Yunlong</td>\n",
              "      <td>CN</td>\n",
              "      <td>CN104823754A/en</td>\n",
              "      <td>谢云龙</td>\n",
              "      <td>2017</td>\n",
              "      <td>unknown</td>\n",
              "      <td>M</td>\n",
              "      <td>0.945586</td>\n",
              "    </tr>\n",
              "    <tr>\n",
              "      <th>1</th>\n",
              "      <td>US09532598</td>\n",
              "      <td>US</td>\n",
              "      <td>Liu Qiuming</td>\n",
              "      <td>Qiuming</td>\n",
              "      <td>CN</td>\n",
              "      <td>CN205214206U/en</td>\n",
              "      <td>刘秋明</td>\n",
              "      <td>2017</td>\n",
              "      <td>unknown</td>\n",
              "      <td>M</td>\n",
              "      <td>0.500785</td>\n",
              "    </tr>\n",
              "    <tr>\n",
              "      <th>2</th>\n",
              "      <td>US09532599</td>\n",
              "      <td>CN</td>\n",
              "      <td>Liu Qiuming</td>\n",
              "      <td>Qiuming</td>\n",
              "      <td>CN</td>\n",
              "      <td>CN203327956U/en</td>\n",
              "      <td>刘秋明</td>\n",
              "      <td>2017</td>\n",
              "      <td>unknown</td>\n",
              "      <td>M</td>\n",
              "      <td>0.500785</td>\n",
              "    </tr>\n",
              "    <tr>\n",
              "      <th>3</th>\n",
              "      <td>US09532602</td>\n",
              "      <td>CN</td>\n",
              "      <td>Liu Qiuming</td>\n",
              "      <td>Qiuming</td>\n",
              "      <td>CN</td>\n",
              "      <td>CN203378559U/en</td>\n",
              "      <td>刘秋明</td>\n",
              "      <td>2017</td>\n",
              "      <td>unknown</td>\n",
              "      <td>M</td>\n",
              "      <td>0.500785</td>\n",
              "    </tr>\n",
              "    <tr>\n",
              "      <th>4</th>\n",
              "      <td>US09532631</td>\n",
              "      <td>WO</td>\n",
              "      <td>Gu Jiawei</td>\n",
              "      <td>Jiawei</td>\n",
              "      <td>CN</td>\n",
              "      <td>CN105378583B/en</td>\n",
              "      <td>顾嘉唯</td>\n",
              "      <td>2017</td>\n",
              "      <td>unknown</td>\n",
              "      <td>M</td>\n",
              "      <td>0.496414</td>\n",
              "    </tr>\n",
              "  </tbody>\n",
              "</table>\n",
              "</div>\n",
              "      <button class=\"colab-df-convert\" onclick=\"convertToInteractive('df-0e828ab9-11a3-4b96-a8bc-2240a7df45a8')\"\n",
              "              title=\"Convert this dataframe to an interactive table.\"\n",
              "              style=\"display:none;\">\n",
              "        \n",
              "  <svg xmlns=\"http://www.w3.org/2000/svg\" height=\"24px\"viewBox=\"0 0 24 24\"\n",
              "       width=\"24px\">\n",
              "    <path d=\"M0 0h24v24H0V0z\" fill=\"none\"/>\n",
              "    <path d=\"M18.56 5.44l.94 2.06.94-2.06 2.06-.94-2.06-.94-.94-2.06-.94 2.06-2.06.94zm-11 1L8.5 8.5l.94-2.06 2.06-.94-2.06-.94L8.5 2.5l-.94 2.06-2.06.94zm10 10l.94 2.06.94-2.06 2.06-.94-2.06-.94-.94-2.06-.94 2.06-2.06.94z\"/><path d=\"M17.41 7.96l-1.37-1.37c-.4-.4-.92-.59-1.43-.59-.52 0-1.04.2-1.43.59L10.3 9.45l-7.72 7.72c-.78.78-.78 2.05 0 2.83L4 21.41c.39.39.9.59 1.41.59.51 0 1.02-.2 1.41-.59l7.78-7.78 2.81-2.81c.8-.78.8-2.07 0-2.86zM5.41 20L4 18.59l7.72-7.72 1.47 1.35L5.41 20z\"/>\n",
              "  </svg>\n",
              "      </button>\n",
              "      \n",
              "  <style>\n",
              "    .colab-df-container {\n",
              "      display:flex;\n",
              "      flex-wrap:wrap;\n",
              "      gap: 12px;\n",
              "    }\n",
              "\n",
              "    .colab-df-convert {\n",
              "      background-color: #E8F0FE;\n",
              "      border: none;\n",
              "      border-radius: 50%;\n",
              "      cursor: pointer;\n",
              "      display: none;\n",
              "      fill: #1967D2;\n",
              "      height: 32px;\n",
              "      padding: 0 0 0 0;\n",
              "      width: 32px;\n",
              "    }\n",
              "\n",
              "    .colab-df-convert:hover {\n",
              "      background-color: #E2EBFA;\n",
              "      box-shadow: 0px 1px 2px rgba(60, 64, 67, 0.3), 0px 1px 3px 1px rgba(60, 64, 67, 0.15);\n",
              "      fill: #174EA6;\n",
              "    }\n",
              "\n",
              "    [theme=dark] .colab-df-convert {\n",
              "      background-color: #3B4455;\n",
              "      fill: #D2E3FC;\n",
              "    }\n",
              "\n",
              "    [theme=dark] .colab-df-convert:hover {\n",
              "      background-color: #434B5C;\n",
              "      box-shadow: 0px 1px 3px 1px rgba(0, 0, 0, 0.15);\n",
              "      filter: drop-shadow(0px 1px 2px rgba(0, 0, 0, 0.3));\n",
              "      fill: #FFFFFF;\n",
              "    }\n",
              "  </style>\n",
              "\n",
              "      <script>\n",
              "        const buttonEl =\n",
              "          document.querySelector('#df-0e828ab9-11a3-4b96-a8bc-2240a7df45a8 button.colab-df-convert');\n",
              "        buttonEl.style.display =\n",
              "          google.colab.kernel.accessAllowed ? 'block' : 'none';\n",
              "\n",
              "        async function convertToInteractive(key) {\n",
              "          const element = document.querySelector('#df-0e828ab9-11a3-4b96-a8bc-2240a7df45a8');\n",
              "          const dataTable =\n",
              "            await google.colab.kernel.invokeFunction('convertToInteractive',\n",
              "                                                     [key], {});\n",
              "          if (!dataTable) return;\n",
              "\n",
              "          const docLinkHtml = 'Like what you see? Visit the ' +\n",
              "            '<a target=\"_blank\" href=https://colab.research.google.com/notebooks/data_table.ipynb>data table notebook</a>'\n",
              "            + ' to learn more about interactive tables.';\n",
              "          element.innerHTML = '';\n",
              "          dataTable['output_type'] = 'display_data';\n",
              "          await google.colab.output.renderOutput(dataTable, element);\n",
              "          const docLink = document.createElement('div');\n",
              "          docLink.innerHTML = docLinkHtml;\n",
              "          element.appendChild(docLink);\n",
              "        }\n",
              "      </script>\n",
              "    </div>\n",
              "  </div>\n",
              "  "
            ]
          },
          "metadata": {},
          "execution_count": 11
        }
      ]
    },
    {
      "cell_type": "code",
      "source": [
        "# AVG probabilities \n",
        "gender_probs = df.groupby([\"chinese_gender\"]).mean()\n",
        "gender_probs.drop(columns=[\"year\"])"
      ],
      "metadata": {
        "colab": {
          "base_uri": "https://localhost:8080/",
          "height": 204
        },
        "id": "3YM4Xefa7QCI",
        "outputId": "f4f5a3c3-21b0-4259-8266-4e57de05d3fa"
      },
      "execution_count": null,
      "outputs": [
        {
          "output_type": "execute_result",
          "data": {
            "text/plain": [
              "                chinese_gender_prob\n",
              "chinese_gender                     \n",
              "F                          0.845483\n",
              "M                          0.902503\n",
              "M=F=Undefined              0.333333\n",
              "Undefined                  0.854238"
            ],
            "text/html": [
              "\n",
              "  <div id=\"df-c186587f-e7e7-4e20-abb3-2147637473fe\">\n",
              "    <div class=\"colab-df-container\">\n",
              "      <div>\n",
              "<style scoped>\n",
              "    .dataframe tbody tr th:only-of-type {\n",
              "        vertical-align: middle;\n",
              "    }\n",
              "\n",
              "    .dataframe tbody tr th {\n",
              "        vertical-align: top;\n",
              "    }\n",
              "\n",
              "    .dataframe thead th {\n",
              "        text-align: right;\n",
              "    }\n",
              "</style>\n",
              "<table border=\"1\" class=\"dataframe\">\n",
              "  <thead>\n",
              "    <tr style=\"text-align: right;\">\n",
              "      <th></th>\n",
              "      <th>chinese_gender_prob</th>\n",
              "    </tr>\n",
              "    <tr>\n",
              "      <th>chinese_gender</th>\n",
              "      <th></th>\n",
              "    </tr>\n",
              "  </thead>\n",
              "  <tbody>\n",
              "    <tr>\n",
              "      <th>F</th>\n",
              "      <td>0.845483</td>\n",
              "    </tr>\n",
              "    <tr>\n",
              "      <th>M</th>\n",
              "      <td>0.902503</td>\n",
              "    </tr>\n",
              "    <tr>\n",
              "      <th>M=F=Undefined</th>\n",
              "      <td>0.333333</td>\n",
              "    </tr>\n",
              "    <tr>\n",
              "      <th>Undefined</th>\n",
              "      <td>0.854238</td>\n",
              "    </tr>\n",
              "  </tbody>\n",
              "</table>\n",
              "</div>\n",
              "      <button class=\"colab-df-convert\" onclick=\"convertToInteractive('df-c186587f-e7e7-4e20-abb3-2147637473fe')\"\n",
              "              title=\"Convert this dataframe to an interactive table.\"\n",
              "              style=\"display:none;\">\n",
              "        \n",
              "  <svg xmlns=\"http://www.w3.org/2000/svg\" height=\"24px\"viewBox=\"0 0 24 24\"\n",
              "       width=\"24px\">\n",
              "    <path d=\"M0 0h24v24H0V0z\" fill=\"none\"/>\n",
              "    <path d=\"M18.56 5.44l.94 2.06.94-2.06 2.06-.94-2.06-.94-.94-2.06-.94 2.06-2.06.94zm-11 1L8.5 8.5l.94-2.06 2.06-.94-2.06-.94L8.5 2.5l-.94 2.06-2.06.94zm10 10l.94 2.06.94-2.06 2.06-.94-2.06-.94-.94-2.06-.94 2.06-2.06.94z\"/><path d=\"M17.41 7.96l-1.37-1.37c-.4-.4-.92-.59-1.43-.59-.52 0-1.04.2-1.43.59L10.3 9.45l-7.72 7.72c-.78.78-.78 2.05 0 2.83L4 21.41c.39.39.9.59 1.41.59.51 0 1.02-.2 1.41-.59l7.78-7.78 2.81-2.81c.8-.78.8-2.07 0-2.86zM5.41 20L4 18.59l7.72-7.72 1.47 1.35L5.41 20z\"/>\n",
              "  </svg>\n",
              "      </button>\n",
              "      \n",
              "  <style>\n",
              "    .colab-df-container {\n",
              "      display:flex;\n",
              "      flex-wrap:wrap;\n",
              "      gap: 12px;\n",
              "    }\n",
              "\n",
              "    .colab-df-convert {\n",
              "      background-color: #E8F0FE;\n",
              "      border: none;\n",
              "      border-radius: 50%;\n",
              "      cursor: pointer;\n",
              "      display: none;\n",
              "      fill: #1967D2;\n",
              "      height: 32px;\n",
              "      padding: 0 0 0 0;\n",
              "      width: 32px;\n",
              "    }\n",
              "\n",
              "    .colab-df-convert:hover {\n",
              "      background-color: #E2EBFA;\n",
              "      box-shadow: 0px 1px 2px rgba(60, 64, 67, 0.3), 0px 1px 3px 1px rgba(60, 64, 67, 0.15);\n",
              "      fill: #174EA6;\n",
              "    }\n",
              "\n",
              "    [theme=dark] .colab-df-convert {\n",
              "      background-color: #3B4455;\n",
              "      fill: #D2E3FC;\n",
              "    }\n",
              "\n",
              "    [theme=dark] .colab-df-convert:hover {\n",
              "      background-color: #434B5C;\n",
              "      box-shadow: 0px 1px 3px 1px rgba(0, 0, 0, 0.15);\n",
              "      filter: drop-shadow(0px 1px 2px rgba(0, 0, 0, 0.3));\n",
              "      fill: #FFFFFF;\n",
              "    }\n",
              "  </style>\n",
              "\n",
              "      <script>\n",
              "        const buttonEl =\n",
              "          document.querySelector('#df-c186587f-e7e7-4e20-abb3-2147637473fe button.colab-df-convert');\n",
              "        buttonEl.style.display =\n",
              "          google.colab.kernel.accessAllowed ? 'block' : 'none';\n",
              "\n",
              "        async function convertToInteractive(key) {\n",
              "          const element = document.querySelector('#df-c186587f-e7e7-4e20-abb3-2147637473fe');\n",
              "          const dataTable =\n",
              "            await google.colab.kernel.invokeFunction('convertToInteractive',\n",
              "                                                     [key], {});\n",
              "          if (!dataTable) return;\n",
              "\n",
              "          const docLinkHtml = 'Like what you see? Visit the ' +\n",
              "            '<a target=\"_blank\" href=https://colab.research.google.com/notebooks/data_table.ipynb>data table notebook</a>'\n",
              "            + ' to learn more about interactive tables.';\n",
              "          element.innerHTML = '';\n",
              "          dataTable['output_type'] = 'display_data';\n",
              "          await google.colab.output.renderOutput(dataTable, element);\n",
              "          const docLink = document.createElement('div');\n",
              "          docLink.innerHTML = docLinkHtml;\n",
              "          element.appendChild(docLink);\n",
              "        }\n",
              "      </script>\n",
              "    </div>\n",
              "  </div>\n",
              "  "
            ]
          },
          "metadata": {},
          "execution_count": 2
        }
      ]
    },
    {
      "cell_type": "code",
      "source": [
        "gender_nums = list(df[\"chinese_gender\"].value_counts())\n",
        "print(gender_nums)"
      ],
      "metadata": {
        "colab": {
          "base_uri": "https://localhost:8080/"
        },
        "id": "-iGAu65K32sk",
        "outputId": "90ddd15d-4662-41a1-80d1-c43156cb7772"
      },
      "execution_count": null,
      "outputs": [
        {
          "output_type": "stream",
          "name": "stdout",
          "text": [
            "[31866, 7208, 887, 56]\n"
          ]
        }
      ]
    },
    {
      "cell_type": "code",
      "execution_count": null,
      "metadata": {
        "colab": {
          "base_uri": "https://localhost:8080/",
          "height": 298
        },
        "id": "wvCOOezN2SGP",
        "outputId": "58153355-f95b-431a-9274-b23d79f609a0"
      },
      "outputs": [
        {
          "output_type": "display_data",
          "data": {
            "text/plain": [
              "<Figure size 432x288 with 1 Axes>"
            ],
            "image/png": "[encoded data removed]"
          },
          "metadata": {
            "needs_background": "light"
          }
        },
        {
          "output_type": "display_data",
          "data": {
            "text/plain": [
              "<Figure size 432x288 with 0 Axes>"
            ]
          },
          "metadata": {}
        }
      ],
      "source": [
        "import matplotlib.pyplot as plt\n",
        "\n",
        "gender = ['Male', 'Female', 'Androgenous', 'Undefined']\n",
        "plt.title(\"Gender Distribution for Original CN Names\")\n",
        "plt.bar(gender, gender_nums)\n",
        "plt.show()\n",
        "plt.savefig('Gender_Distribution_for_Original_CN_Names.png')"
      ]
    },
    {
      "cell_type": "code",
      "source": [
        "import matplotlib.pyplot as plt\n",
        "\n",
        "year_2017 = df[df['year'] == 2017]\n",
        "gender_nums = list(year_2017[\"chinese_gender\"].value_counts())\n",
        "print(gender_nums)\n",
        "\n",
        "gender = ['Male', 'Female', 'Androgenous', 'Undefined']\n",
        "plt.title(\"2017 Gender Distribution for Original CN Names\")\n",
        "plt.bar(gender, gender_nums)\n",
        "plt.show()\n",
        "plt.savefig('2017_Gender_Distribution_for_Original_CN_Names.png')"
      ],
      "metadata": {
        "colab": {
          "base_uri": "https://localhost:8080/",
          "height": 315
        },
        "id": "guFl_aqPTmYl",
        "outputId": "1f35659e-a107-40a2-da69-741029d22c83"
      },
      "execution_count": null,
      "outputs": [
        {
          "output_type": "stream",
          "name": "stdout",
          "text": [
            "[6335, 1395, 262, 11]\n"
          ]
        },
        {
          "output_type": "display_data",
          "data": {
            "text/plain": [
              "<Figure size 432x288 with 1 Axes>"
            ],
            "image/png": "[encoded data removed]"
          },
          "metadata": {
            "needs_background": "light"
          }
        },
        {
          "output_type": "display_data",
          "data": {
            "text/plain": [
              "<Figure size 432x288 with 0 Axes>"
            ]
          },
          "metadata": {}
        }
      ]
    },
    {
      "cell_type": "code",
      "source": [
        "import matplotlib.pyplot as plt\n",
        "\n",
        "year_2018 = df[df['year'] == 2018]\n",
        "gender_nums = list(year_2018[\"chinese_gender\"].value_counts())\n",
        "print(gender_nums)\n",
        "\n",
        "gender = ['Male', 'Female', 'Androgenous', 'Undefined']\n",
        "plt.title(\"2018 Gender Distribution for Original CN Names\")\n",
        "plt.bar(gender, gender_nums)\n",
        "plt.show()\n",
        "plt.savefig('2018_Gender_Distribution_for_Original_CN_Names.png')"
      ],
      "metadata": {
        "colab": {
          "base_uri": "https://localhost:8080/",
          "height": 315
        },
        "id": "yy_eDAtbV2fo",
        "outputId": "cf19cd7c-fac7-4e6d-a61f-6825fc1f9b17"
      },
      "execution_count": null,
      "outputs": [
        {
          "output_type": "stream",
          "name": "stdout",
          "text": [
            "[6411, 1406, 179, 9]\n"
          ]
        },
        {
          "output_type": "display_data",
          "data": {
            "text/plain": [
              "<Figure size 432x288 with 1 Axes>"
            ],
            "image/png": "[encoded data removed]"
          },
          "metadata": {
            "needs_background": "light"
          }
        },
        {
          "output_type": "display_data",
          "data": {
            "text/plain": [
              "<Figure size 432x288 with 0 Axes>"
            ]
          },
          "metadata": {}
        }
      ]
    },
    {
      "cell_type": "code",
      "source": [
        "import matplotlib.pyplot as plt\n",
        "\n",
        "year_2019 = df[df['year'] == 2019]\n",
        "gender_nums = list(year_2019[\"chinese_gender\"].value_counts())\n",
        "print(gender_nums)\n",
        "\n",
        "gender = ['Male', 'Female', 'Androgenous', 'Undefined']\n",
        "plt.title(\"2019 Gender Distribution for Original CN Names\")\n",
        "plt.bar(gender, gender_nums)\n",
        "plt.show()\n",
        "plt.savefig('2019_Gender_Distribution_for_Original_CN_Names.png')"
      ],
      "metadata": {
        "colab": {
          "base_uri": "https://localhost:8080/",
          "height": 315
        },
        "id": "zM0avtmoWBjt",
        "outputId": "ce426fd3-21bf-4610-f234-9fb6a03083b3"
      },
      "execution_count": null,
      "outputs": [
        {
          "output_type": "stream",
          "name": "stdout",
          "text": [
            "[6385, 1394, 214, 10]\n"
          ]
        },
        {
          "output_type": "display_data",
          "data": {
            "text/plain": [
              "<Figure size 432x288 with 1 Axes>"
            ],
            "image/png": "[encoded data removed]"
          },
          "metadata": {
            "needs_background": "light"
          }
        },
        {
          "output_type": "display_data",
          "data": {
            "text/plain": [
              "<Figure size 432x288 with 0 Axes>"
            ]
          },
          "metadata": {}
        }
      ]
    },
    {
      "cell_type": "code",
      "source": [
        "import matplotlib.pyplot as plt\n",
        "\n",
        "year_2020 = df[df['year'] == 2020]\n",
        "gender_nums = list(year_2020[\"chinese_gender\"].value_counts())\n",
        "print(gender_nums)\n",
        "\n",
        "gender = ['Male', 'Female', 'Androgenous', 'Undefined']\n",
        "plt.title(\"2020 Gender Distribution for Original CN Names\")\n",
        "plt.bar(gender, gender_nums)\n",
        "plt.show()\n",
        "plt.savefig('2020_Gender_Distribution_for_Original_CN_Names.png')"
      ],
      "metadata": {
        "colab": {
          "base_uri": "https://localhost:8080/",
          "height": 315
        },
        "id": "MKJHWvQ2WYmY",
        "outputId": "3034b111-7b6a-4675-87ef-3f6db6dfb6d6"
      },
      "execution_count": null,
      "outputs": [
        {
          "output_type": "stream",
          "name": "stdout",
          "text": [
            "[6387, 1475, 128, 11]\n"
          ]
        },
        {
          "output_type": "display_data",
          "data": {
            "text/plain": [
              "<Figure size 432x288 with 1 Axes>"
            ],
            "image/png": "[encoded data removed]"
          },
          "metadata": {
            "needs_background": "light"
          }
        },
        {
          "output_type": "display_data",
          "data": {
            "text/plain": [
              "<Figure size 432x288 with 0 Axes>"
            ]
          },
          "metadata": {}
        }
      ]
    },
    {
      "cell_type": "code",
      "source": [
        "import matplotlib.pyplot as plt\n",
        "\n",
        "year_2021 = df[df['year'] == 2021]\n",
        "gender_nums = list(year_2021[\"chinese_gender\"].value_counts())\n",
        "print(gender_nums)\n",
        "\n",
        "gender = ['Male', 'Female', 'Androgenous', 'Undefined']\n",
        "plt.title(\"2021 Gender Distribution for Original CN Names\")\n",
        "plt.bar(gender, gender_nums)\n",
        "plt.show()\n",
        "plt.savefig('2021_Gender_Distribution_for_Original_CN_Names.png')"
      ],
      "metadata": {
        "colab": {
          "base_uri": "https://localhost:8080/",
          "height": 315
        },
        "id": "Tr2_Yy3pWloK",
        "outputId": "ac0824c6-5cf0-4488-9487-857581d10e73"
      },
      "execution_count": null,
      "outputs": [
        {
          "output_type": "stream",
          "name": "stdout",
          "text": [
            "[6348, 1538, 104, 15]\n"
          ]
        },
        {
          "output_type": "display_data",
          "data": {
            "text/plain": [
              "<Figure size 432x288 with 1 Axes>"
            ],
            "image/png": "[encoded data removed]"
          },
          "metadata": {
            "needs_background": "light"
          }
        },
        {
          "output_type": "display_data",
          "data": {
            "text/plain": [
              "<Figure size 432x288 with 0 Axes>"
            ]
          },
          "metadata": {}
        }
      ]
    },
    {
      "cell_type": "markdown",
      "source": [
        "# Gender Distribution for Translated CN Names in English"
      ],
      "metadata": {
        "id": "Rv9o1cg6Ea8M"
      }
    },
    {
      "cell_type": "code",
      "source": [
        "new_df = df[\"english_gender\"].value_counts()\n",
        "new_df"
      ],
      "metadata": {
        "colab": {
          "base_uri": "https://localhost:8080/"
        },
        "id": "c-7Sd4Ie561G",
        "outputId": "5d9d6e07-d460-444e-af2c-e54439367750"
      },
      "execution_count": 12,
      "outputs": [
        {
          "output_type": "execute_result",
          "data": {
            "text/plain": [
              "unknown          24683\n",
              "andy             12471\n",
              "male              1467\n",
              "mostly_male        849\n",
              "female             443\n",
              "mostly_female      104\n",
              "Name: english_gender, dtype: int64"
            ]
          },
          "metadata": {},
          "execution_count": 12
        }
      ]
    },
    {
      "cell_type": "code",
      "source": [
        "gender_nums = list(df[\"english_gender\"].value_counts())\n",
        "print(gender_nums)"
      ],
      "metadata": {
        "colab": {
          "base_uri": "https://localhost:8080/"
        },
        "id": "Z_7EWFV_4mQO",
        "outputId": "8cd4cfdb-f0e7-44ab-d255-6b8e6a489dbc"
      },
      "execution_count": 13,
      "outputs": [
        {
          "output_type": "stream",
          "name": "stdout",
          "text": [
            "[24683, 12471, 1467, 849, 443, 104]\n"
          ]
        }
      ]
    },
    {
      "cell_type": "code",
      "source": [
        "gender_nums = [24683, 12471, 1467+849, 443+104]"
      ],
      "metadata": {
        "id": "37nrENVl6cu9"
      },
      "execution_count": 14,
      "outputs": []
    },
    {
      "cell_type": "code",
      "source": [
        "import matplotlib.pyplot as plt\n",
        "\n",
        "gender = ['Unknown', 'Androgenous', 'Male', 'Female']\n",
        "plt.title(\"Gender Distribution for CN Names translated to EN Names\")\n",
        "plt.bar(gender, gender_nums)\n",
        "plt.show()\n",
        "\n",
        "plt.savefig('Gender_Distribution_for_CN_Names_translated_to_EN_Names.png')"
      ],
      "metadata": {
        "colab": {
          "base_uri": "https://localhost:8080/",
          "height": 298
        },
        "id": "7HJQcbX75PnQ",
        "outputId": "af81458f-9d43-4a10-f000-a874dfd54a76"
      },
      "execution_count": 16,
      "outputs": [
        {
          "output_type": "display_data",
          "data": {
            "text/plain": [
              "<Figure size 432x288 with 1 Axes>"
            ],
            "image/png": "[encoded data removed]"
          },
          "metadata": {
            "needs_background": "light"
          }
        },
        {
          "output_type": "display_data",
          "data": {
            "text/plain": [
              "<Figure size 432x288 with 0 Axes>"
            ]
          },
          "metadata": {}
        }
      ]
    },
    {
      "cell_type": "code",
      "source": [
        "year_2017 = df[df['year'] == 2017]\n",
        "gender_nums = list(year_2017[\"english_gender\"].value_counts())\n",
        "print(gender_nums)"
      ],
      "metadata": {
        "colab": {
          "base_uri": "https://localhost:8080/"
        },
        "id": "FqbQ3Ym4F12A",
        "outputId": "4f4cb30d-a84f-4ba5-9fb3-847c3d99a937"
      },
      "execution_count": 17,
      "outputs": [
        {
          "output_type": "stream",
          "name": "stdout",
          "text": [
            "[4800, 2618, 320, 173, 70, 22]\n"
          ]
        }
      ]
    },
    {
      "cell_type": "code",
      "source": [
        "year_2018 = df[df['year'] == 2018]\n",
        "gender_nums = list(year_2018[\"english_gender\"].value_counts())\n",
        "print(gender_nums)"
      ],
      "metadata": {
        "colab": {
          "base_uri": "https://localhost:8080/"
        },
        "id": "n1OQPIdwF8cv",
        "outputId": "e48b8c27-0732-40ac-8b23-f7ec0ee05972"
      },
      "execution_count": 18,
      "outputs": [
        {
          "output_type": "stream",
          "name": "stdout",
          "text": [
            "[4969, 2453, 296, 186, 88, 13]\n"
          ]
        }
      ]
    },
    {
      "cell_type": "code",
      "source": [
        "year_2019 = df[df['year'] == 2019]\n",
        "gender_nums = list(year_2019[\"english_gender\"].value_counts())\n",
        "print(gender_nums)"
      ],
      "metadata": {
        "colab": {
          "base_uri": "https://localhost:8080/"
        },
        "id": "UDnQtDW4F9h0",
        "outputId": "be8b5074-3b65-4fa4-9cef-c4dd665a3a59"
      },
      "execution_count": 19,
      "outputs": [
        {
          "output_type": "stream",
          "name": "stdout",
          "text": [
            "[4937, 2441, 302, 194, 104, 25]\n"
          ]
        }
      ]
    },
    {
      "cell_type": "code",
      "source": [
        "year_2020 = df[df['year'] == 2020]\n",
        "gender_nums = list(year_2020[\"english_gender\"].value_counts())\n",
        "print(gender_nums)"
      ],
      "metadata": {
        "colab": {
          "base_uri": "https://localhost:8080/"
        },
        "id": "Ld1mArA7F-rm",
        "outputId": "2213422e-4e24-456e-c7e4-f82a55dee6f7"
      },
      "execution_count": 20,
      "outputs": [
        {
          "output_type": "stream",
          "name": "stdout",
          "text": [
            "[5000, 2474, 269, 148, 94, 16]\n"
          ]
        }
      ]
    },
    {
      "cell_type": "code",
      "source": [
        "year_2021 = df[df['year'] == 2021]\n",
        "gender_nums = list(year_2021[\"english_gender\"].value_counts())\n",
        "print(gender_nums)"
      ],
      "metadata": {
        "colab": {
          "base_uri": "https://localhost:8080/"
        },
        "id": "NasTde4YGBsp",
        "outputId": "824bd5ed-99a3-485c-bc4e-0cf055a70392"
      },
      "execution_count": 21,
      "outputs": [
        {
          "output_type": "stream",
          "name": "stdout",
          "text": [
            "[4977, 2485, 280, 148, 87, 28]\n"
          ]
        }
      ]
    },
    {
      "cell_type": "markdown",
      "source": [
        "# Gender Distribution for Korean Names"
      ],
      "metadata": {
        "id": "upWYEfm8EQ9d"
      }
    },
    {
      "cell_type": "code",
      "source": [
        "import pandas as pd\n",
        "\n",
        "df = pd.read_csv('/content/Nov_22_KR_Names_Gender_EN_2_KR.csv')\n",
        "df.head()"
      ],
      "metadata": {
        "colab": {
          "base_uri": "https://localhost:8080/",
          "height": 268
        },
        "id": "NLiq63jo_Q7u",
        "outputId": "abedf661-0bfb-4ab6-e0d6-8674e688704e"
      },
      "execution_count": 24,
      "outputs": [
        {
          "output_type": "execute_result",
          "data": {
            "text/plain": [
              "  publication_id country   english_names english_first_names inventor_country  \\\n",
              "0     USD0775625      KR   Kim Dong-Hyun           Dong-Hyun               KR   \n",
              "1     US09532634      KR  Lee Cheon Sook          Cheon Sook               KR   \n",
              "2     US09532636      KR    Jung Ku Youl             Ku Youl               KR   \n",
              "3     US09532637      KR   Choi Jung Sun            Jung Sun               KR   \n",
              "4     US09532637      KR   Kim Kyung Nam           Kyung Nam               KR   \n",
              "\n",
              "  worldwide_application original_names  year english_gender  \\\n",
              "0      KR101515629B1/en            김동현  2017           male   \n",
              "1      KR101469765B1/en            이영훈  2017        unknown   \n",
              "2      KR101318467B1/en            정규열  2017        unknown   \n",
              "3     KR20140094485A/en            최정선  2017         female   \n",
              "4     KR20140094485A/en            김경남  2017        unknown   \n",
              "\n",
              "  korean_likelyGender  korean_genderScale  korean_score  \\\n",
              "0                male           -0.994915     38.123614   \n",
              "1                male           -0.992919     31.619904   \n",
              "2                male           -0.988202     27.418114   \n",
              "3                male           -0.405357      7.265855   \n",
              "4                male           -0.892104     16.558482   \n",
              "\n",
              "   korean_probabilityCalibrated  \n",
              "0                      0.997457  \n",
              "1                      0.996460  \n",
              "2                      0.994101  \n",
              "3                      0.702679  \n",
              "4                      0.946052  "
            ],
            "text/html": [
              "\n",
              "  <div id=\"df-f07bfcc3-05e6-4813-8c92-4661da5206f3\">\n",
              "    <div class=\"colab-df-container\">\n",
              "      <div>\n",
              "<style scoped>\n",
              "    .dataframe tbody tr th:only-of-type {\n",
              "        vertical-align: middle;\n",
              "    }\n",
              "\n",
              "    .dataframe tbody tr th {\n",
              "        vertical-align: top;\n",
              "    }\n",
              "\n",
              "    .dataframe thead th {\n",
              "        text-align: right;\n",
              "    }\n",
              "</style>\n",
              "<table border=\"1\" class=\"dataframe\">\n",
              "  <thead>\n",
              "    <tr style=\"text-align: right;\">\n",
              "      <th></th>\n",
              "      <th>publication_id</th>\n",
              "      <th>country</th>\n",
              "      <th>english_names</th>\n",
              "      <th>english_first_names</th>\n",
              "      <th>inventor_country</th>\n",
              "      <th>worldwide_application</th>\n",
              "      <th>original_names</th>\n",
              "      <th>year</th>\n",
              "      <th>english_gender</th>\n",
              "      <th>korean_likelyGender</th>\n",
              "      <th>korean_genderScale</th>\n",
              "      <th>korean_score</th>\n",
              "      <th>korean_probabilityCalibrated</th>\n",
              "    </tr>\n",
              "  </thead>\n",
              "  <tbody>\n",
              "    <tr>\n",
              "      <th>0</th>\n",
              "      <td>USD0775625</td>\n",
              "      <td>KR</td>\n",
              "      <td>Kim Dong-Hyun</td>\n",
              "      <td>Dong-Hyun</td>\n",
              "      <td>KR</td>\n",
              "      <td>KR101515629B1/en</td>\n",
              "      <td>김동현</td>\n",
              "      <td>2017</td>\n",
              "      <td>male</td>\n",
              "      <td>male</td>\n",
              "      <td>-0.994915</td>\n",
              "      <td>38.123614</td>\n",
              "      <td>0.997457</td>\n",
              "    </tr>\n",
              "    <tr>\n",
              "      <th>1</th>\n",
              "      <td>US09532634</td>\n",
              "      <td>KR</td>\n",
              "      <td>Lee Cheon Sook</td>\n",
              "      <td>Cheon Sook</td>\n",
              "      <td>KR</td>\n",
              "      <td>KR101469765B1/en</td>\n",
              "      <td>이영훈</td>\n",
              "      <td>2017</td>\n",
              "      <td>unknown</td>\n",
              "      <td>male</td>\n",
              "      <td>-0.992919</td>\n",
              "      <td>31.619904</td>\n",
              "      <td>0.996460</td>\n",
              "    </tr>\n",
              "    <tr>\n",
              "      <th>2</th>\n",
              "      <td>US09532636</td>\n",
              "      <td>KR</td>\n",
              "      <td>Jung Ku Youl</td>\n",
              "      <td>Ku Youl</td>\n",
              "      <td>KR</td>\n",
              "      <td>KR101318467B1/en</td>\n",
              "      <td>정규열</td>\n",
              "      <td>2017</td>\n",
              "      <td>unknown</td>\n",
              "      <td>male</td>\n",
              "      <td>-0.988202</td>\n",
              "      <td>27.418114</td>\n",
              "      <td>0.994101</td>\n",
              "    </tr>\n",
              "    <tr>\n",
              "      <th>3</th>\n",
              "      <td>US09532637</td>\n",
              "      <td>KR</td>\n",
              "      <td>Choi Jung Sun</td>\n",
              "      <td>Jung Sun</td>\n",
              "      <td>KR</td>\n",
              "      <td>KR20140094485A/en</td>\n",
              "      <td>최정선</td>\n",
              "      <td>2017</td>\n",
              "      <td>female</td>\n",
              "      <td>male</td>\n",
              "      <td>-0.405357</td>\n",
              "      <td>7.265855</td>\n",
              "      <td>0.702679</td>\n",
              "    </tr>\n",
              "    <tr>\n",
              "      <th>4</th>\n",
              "      <td>US09532637</td>\n",
              "      <td>KR</td>\n",
              "      <td>Kim Kyung Nam</td>\n",
              "      <td>Kyung Nam</td>\n",
              "      <td>KR</td>\n",
              "      <td>KR20140094485A/en</td>\n",
              "      <td>김경남</td>\n",
              "      <td>2017</td>\n",
              "      <td>unknown</td>\n",
              "      <td>male</td>\n",
              "      <td>-0.892104</td>\n",
              "      <td>16.558482</td>\n",
              "      <td>0.946052</td>\n",
              "    </tr>\n",
              "  </tbody>\n",
              "</table>\n",
              "</div>\n",
              "      <button class=\"colab-df-convert\" onclick=\"convertToInteractive('df-f07bfcc3-05e6-4813-8c92-4661da5206f3')\"\n",
              "              title=\"Convert this dataframe to an interactive table.\"\n",
              "              style=\"display:none;\">\n",
              "        \n",
              "  <svg xmlns=\"http://www.w3.org/2000/svg\" height=\"24px\"viewBox=\"0 0 24 24\"\n",
              "       width=\"24px\">\n",
              "    <path d=\"M0 0h24v24H0V0z\" fill=\"none\"/>\n",
              "    <path d=\"M18.56 5.44l.94 2.06.94-2.06 2.06-.94-2.06-.94-.94-2.06-.94 2.06-2.06.94zm-11 1L8.5 8.5l.94-2.06 2.06-.94-2.06-.94L8.5 2.5l-.94 2.06-2.06.94zm10 10l.94 2.06.94-2.06 2.06-.94-2.06-.94-.94-2.06-.94 2.06-2.06.94z\"/><path d=\"M17.41 7.96l-1.37-1.37c-.4-.4-.92-.59-1.43-.59-.52 0-1.04.2-1.43.59L10.3 9.45l-7.72 7.72c-.78.78-.78 2.05 0 2.83L4 21.41c.39.39.9.59 1.41.59.51 0 1.02-.2 1.41-.59l7.78-7.78 2.81-2.81c.8-.78.8-2.07 0-2.86zM5.41 20L4 18.59l7.72-7.72 1.47 1.35L5.41 20z\"/>\n",
              "  </svg>\n",
              "      </button>\n",
              "      \n",
              "  <style>\n",
              "    .colab-df-container {\n",
              "      display:flex;\n",
              "      flex-wrap:wrap;\n",
              "      gap: 12px;\n",
              "    }\n",
              "\n",
              "    .colab-df-convert {\n",
              "      background-color: #E8F0FE;\n",
              "      border: none;\n",
              "      border-radius: 50%;\n",
              "      cursor: pointer;\n",
              "      display: none;\n",
              "      fill: #1967D2;\n",
              "      height: 32px;\n",
              "      padding: 0 0 0 0;\n",
              "      width: 32px;\n",
              "    }\n",
              "\n",
              "    .colab-df-convert:hover {\n",
              "      background-color: #E2EBFA;\n",
              "      box-shadow: 0px 1px 2px rgba(60, 64, 67, 0.3), 0px 1px 3px 1px rgba(60, 64, 67, 0.15);\n",
              "      fill: #174EA6;\n",
              "    }\n",
              "\n",
              "    [theme=dark] .colab-df-convert {\n",
              "      background-color: #3B4455;\n",
              "      fill: #D2E3FC;\n",
              "    }\n",
              "\n",
              "    [theme=dark] .colab-df-convert:hover {\n",
              "      background-color: #434B5C;\n",
              "      box-shadow: 0px 1px 3px 1px rgba(0, 0, 0, 0.15);\n",
              "      filter: drop-shadow(0px 1px 2px rgba(0, 0, 0, 0.3));\n",
              "      fill: #FFFFFF;\n",
              "    }\n",
              "  </style>\n",
              "\n",
              "      <script>\n",
              "        const buttonEl =\n",
              "          document.querySelector('#df-f07bfcc3-05e6-4813-8c92-4661da5206f3 button.colab-df-convert');\n",
              "        buttonEl.style.display =\n",
              "          google.colab.kernel.accessAllowed ? 'block' : 'none';\n",
              "\n",
              "        async function convertToInteractive(key) {\n",
              "          const element = document.querySelector('#df-f07bfcc3-05e6-4813-8c92-4661da5206f3');\n",
              "          const dataTable =\n",
              "            await google.colab.kernel.invokeFunction('convertToInteractive',\n",
              "                                                     [key], {});\n",
              "          if (!dataTable) return;\n",
              "\n",
              "          const docLinkHtml = 'Like what you see? Visit the ' +\n",
              "            '<a target=\"_blank\" href=https://colab.research.google.com/notebooks/data_table.ipynb>data table notebook</a>'\n",
              "            + ' to learn more about interactive tables.';\n",
              "          element.innerHTML = '';\n",
              "          dataTable['output_type'] = 'display_data';\n",
              "          await google.colab.output.renderOutput(dataTable, element);\n",
              "          const docLink = document.createElement('div');\n",
              "          docLink.innerHTML = docLinkHtml;\n",
              "          element.appendChild(docLink);\n",
              "        }\n",
              "      </script>\n",
              "    </div>\n",
              "  </div>\n",
              "  "
            ]
          },
          "metadata": {},
          "execution_count": 24
        }
      ]
    },
    {
      "cell_type": "code",
      "source": [
        "gender_nums = list(df[\"korean_likelyGender\"].value_counts())\n",
        "print(gender_nums)"
      ],
      "metadata": {
        "colab": {
          "base_uri": "https://localhost:8080/"
        },
        "id": "8R6NjOgUBkUz",
        "outputId": "119bf290-06be-4363-9b0c-a35609a54314"
      },
      "execution_count": 25,
      "outputs": [
        {
          "output_type": "stream",
          "name": "stdout",
          "text": [
            "[36232, 3775]\n"
          ]
        }
      ]
    },
    {
      "cell_type": "code",
      "source": [
        "year_2017 = df[df['year'] == 2017]\n",
        "gender_nums = list(year_2017[\"korean_likelyGender\"].value_counts())\n",
        "print(gender_nums)"
      ],
      "metadata": {
        "colab": {
          "base_uri": "https://localhost:8080/"
        },
        "id": "U-FWlFJO_96a",
        "outputId": "9dd3be04-c804-447f-804c-8096bfe56d6f"
      },
      "execution_count": 26,
      "outputs": [
        {
          "output_type": "stream",
          "name": "stdout",
          "text": [
            "[7223, 777]\n"
          ]
        }
      ]
    },
    {
      "cell_type": "code",
      "source": [
        "year_2018 = df[df['year'] == 2018]\n",
        "gender_nums = list(year_2018[\"korean_likelyGender\"].value_counts())\n",
        "print(gender_nums)"
      ],
      "metadata": {
        "colab": {
          "base_uri": "https://localhost:8080/"
        },
        "id": "dhq_wNENAR6w",
        "outputId": "93b1c1f8-4e6c-45d5-99ac-9c802c91a2d4"
      },
      "execution_count": 4,
      "outputs": [
        {
          "output_type": "stream",
          "name": "stdout",
          "text": [
            "[7283, 717]\n"
          ]
        }
      ]
    },
    {
      "cell_type": "code",
      "source": [
        "year_2019 = df[df['year'] == 2019]\n",
        "gender_nums = list(year_2019[\"korean_likelyGender\"].value_counts())\n",
        "print(gender_nums)"
      ],
      "metadata": {
        "colab": {
          "base_uri": "https://localhost:8080/"
        },
        "id": "-B_VqGv-ARxb",
        "outputId": "c445d165-6d46-480f-c4a3-b93d4c474ef3"
      },
      "execution_count": 5,
      "outputs": [
        {
          "output_type": "stream",
          "name": "stdout",
          "text": [
            "[7275, 726]\n"
          ]
        }
      ]
    },
    {
      "cell_type": "code",
      "source": [
        "year_2020 = df[df['year'] == 2020]\n",
        "gender_nums = list(year_2020[\"korean_likelyGender\"].value_counts())\n",
        "print(gender_nums)"
      ],
      "metadata": {
        "colab": {
          "base_uri": "https://localhost:8080/"
        },
        "id": "RbeYGZDzAS5H",
        "outputId": "6df87385-8715-4491-83dc-71aeda8b42f2"
      },
      "execution_count": 6,
      "outputs": [
        {
          "output_type": "stream",
          "name": "stdout",
          "text": [
            "[7184, 817]\n"
          ]
        }
      ]
    },
    {
      "cell_type": "code",
      "source": [
        "year_2021 = df[df['year'] == 2021]\n",
        "gender_nums = list(year_2021[\"korean_likelyGender\"].value_counts())\n",
        "print(gender_nums)"
      ],
      "metadata": {
        "colab": {
          "base_uri": "https://localhost:8080/"
        },
        "id": "_8wMb4PIAXQ8",
        "outputId": "7f032843-21be-4710-f912-4c1dd6cc603c"
      },
      "execution_count": 7,
      "outputs": [
        {
          "output_type": "stream",
          "name": "stdout",
          "text": [
            "[7267, 738]\n"
          ]
        }
      ]
    },
    {
      "cell_type": "markdown",
      "source": [
        "# Gender Distribution for Translated KR Names in English"
      ],
      "metadata": {
        "id": "JR9wbwDVH-iA"
      }
    },
    {
      "cell_type": "code",
      "source": [
        "gender_nums = list(df[\"english_gender\"].value_counts())\n",
        "print(gender_nums)"
      ],
      "metadata": {
        "colab": {
          "base_uri": "https://localhost:8080/"
        },
        "id": "eLCK73cCIPer",
        "outputId": "5886d9ee-f4c8-4bbb-f354-1381186dfa26"
      },
      "execution_count": 27,
      "outputs": [
        {
          "output_type": "stream",
          "name": "stdout",
          "text": [
            "[31485, 5033, 1889, 964, 490, 146]\n"
          ]
        }
      ]
    },
    {
      "cell_type": "code",
      "source": [
        "gender_nums = [31485, 5033, 1889+ 964, 490+146]"
      ],
      "metadata": {
        "id": "hckv44xjI9Uq"
      },
      "execution_count": 30,
      "outputs": []
    },
    {
      "cell_type": "code",
      "source": [
        "print(gender_nums)"
      ],
      "metadata": {
        "colab": {
          "base_uri": "https://localhost:8080/"
        },
        "id": "W06WrMLrJzve",
        "outputId": "2fc74f43-30ec-4a8d-e7ce-ab7acdd67b13"
      },
      "execution_count": 32,
      "outputs": [
        {
          "output_type": "stream",
          "name": "stdout",
          "text": [
            "[31485, 5033, 2853, 636]\n"
          ]
        }
      ]
    },
    {
      "cell_type": "code",
      "source": [
        "gender = ['Unknown', 'Androgenous', 'Male', 'Female']\n",
        "plt.title(\"Gender Distribution for KN Names translated to EN Names\")\n",
        "plt.bar(gender, gender_nums)\n",
        "plt.show()"
      ],
      "metadata": {
        "colab": {
          "base_uri": "https://localhost:8080/",
          "height": 281
        },
        "id": "XCGacasyH-Ed",
        "outputId": "55282ce1-9696-414f-db86-fda534643d6d"
      },
      "execution_count": 31,
      "outputs": [
        {
          "output_type": "display_data",
          "data": {
            "text/plain": [
              "<Figure size 432x288 with 1 Axes>"
            ],
            "image/png": "[encoded data removed]"
          },
          "metadata": {
            "needs_background": "light"
          }
        }
      ]
    },
    {
      "cell_type": "code",
      "source": [
        "year_2017 = df[df['year'] == 2017]\n",
        "gender_nums = list(year_2017[\"english_gender\"].value_counts())\n",
        "print(gender_nums)"
      ],
      "metadata": {
        "colab": {
          "base_uri": "https://localhost:8080/"
        },
        "id": "evr1iIQqJ7h4",
        "outputId": "52784428-353c-4bb5-9751-cbce2dac929d"
      },
      "execution_count": 33,
      "outputs": [
        {
          "output_type": "stream",
          "name": "stdout",
          "text": [
            "[6178, 1080, 413, 188, 111, 30]\n"
          ]
        }
      ]
    },
    {
      "cell_type": "code",
      "source": [
        "year_2018 = df[df['year'] == 2018]\n",
        "gender_nums = list(year_2018[\"english_gender\"].value_counts())\n",
        "print(gender_nums)"
      ],
      "metadata": {
        "colab": {
          "base_uri": "https://localhost:8080/"
        },
        "id": "Mdg7cebVJ_da",
        "outputId": "2ed181ae-250c-413f-85ee-791f89c666c3"
      },
      "execution_count": 34,
      "outputs": [
        {
          "output_type": "stream",
          "name": "stdout",
          "text": [
            "[6317, 1026, 362, 180, 91, 24]\n"
          ]
        }
      ]
    },
    {
      "cell_type": "code",
      "source": [
        "year_2019 = df[df['year'] == 2019]\n",
        "gender_nums = list(year_2019[\"english_gender\"].value_counts())\n",
        "print(gender_nums)"
      ],
      "metadata": {
        "colab": {
          "base_uri": "https://localhost:8080/"
        },
        "id": "TO_UZ3Z9KA5h",
        "outputId": "b8f29c58-98f5-4703-f2d2-490010a6b37f"
      },
      "execution_count": 35,
      "outputs": [
        {
          "output_type": "stream",
          "name": "stdout",
          "text": [
            "[6307, 991, 372, 211, 95, 25]\n"
          ]
        }
      ]
    },
    {
      "cell_type": "code",
      "source": [
        "year_2020 = df[df['year'] == 2020]\n",
        "gender_nums = list(year_2020[\"english_gender\"].value_counts())\n",
        "print(gender_nums)"
      ],
      "metadata": {
        "colab": {
          "base_uri": "https://localhost:8080/"
        },
        "id": "z1YIKyCcKBeB",
        "outputId": "fcc379a1-7091-4798-c291-4c62fa0d3b83"
      },
      "execution_count": 36,
      "outputs": [
        {
          "output_type": "stream",
          "name": "stdout",
          "text": [
            "[6264, 989, 405, 216, 94, 33]\n"
          ]
        }
      ]
    },
    {
      "cell_type": "code",
      "source": [
        "year_2021 = df[df['year'] == 2021]\n",
        "gender_nums = list(year_2021[\"english_gender\"].value_counts())\n",
        "print(gender_nums)"
      ],
      "metadata": {
        "colab": {
          "base_uri": "https://localhost:8080/"
        },
        "id": "LsE0ZOtgKKzX",
        "outputId": "351b3cd2-60ab-43f5-fc37-62e97560cdc2"
      },
      "execution_count": 37,
      "outputs": [
        {
          "output_type": "stream",
          "name": "stdout",
          "text": [
            "[6419, 947, 337, 169, 99, 34]\n"
          ]
        }
      ]
    }
  ]
}
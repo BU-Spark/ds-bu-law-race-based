{
  "nbformat": 4,
  "nbformat_minor": 0,
  "metadata": {
    "colab": {
      "provenance": []
    },
    "kernelspec": {
      "name": "python3",
      "display_name": "Python 3"
    },
    "language_info": {
      "name": "python"
    }
  },
  "cells": [
    {
      "cell_type": "code",
      "source": [
        "import pandas as pd\n",
        "\n",
        "df = pd.read_csv('/content/Nov_02_CN_Names_Gender.csv')\n",
        "df.head()"
      ],
      "metadata": {
        "colab": {
          "base_uri": "https://localhost:8080/",
          "height": 268
        },
        "id": "2tJLU3s-2UR6",
        "outputId": "97477f8b-8638-4f11-e2d3-ee5a13a1603b"
      },
      "execution_count": 41,
      "outputs": [
        {
          "output_type": "execute_result",
          "data": {
            "text/plain": [
              "  publication_id country   english_names english_first_names inventor_country  \\\n",
              "0     US06838490      CN  Zhang Xiaohong            Xiaohong               CN   \n",
              "1     US06838490      CN   Qiao Jinliang            Jinliang               CN   \n",
              "2     US06838490      CN    Wei Genshuan            Genshuan               CN   \n",
              "3     US06838490      CN    Gao Jianming            Jianming               CN   \n",
              "4     US06838490      CN       Liu Yiqun               Yiqun               CN   \n",
              "\n",
              "  worldwide_application original_names  year english_gender chinese_gender  \\\n",
              "0         CN1239577C/en            张晓红  2005        unknown              F   \n",
              "1         CN1239577C/en            乔金梁  2005        unknown              M   \n",
              "2         CN1239577C/en            魏根栓  2005        unknown              M   \n",
              "3         CN1239577C/en            高建明  2005        unknown              M   \n",
              "4         CN1239577C/en            刘轶群  2005        unknown              M   \n",
              "\n",
              "   chinese_gender_prob  \n",
              "0             0.783984  \n",
              "1             0.984577  \n",
              "2             0.978642  \n",
              "3             0.938999  \n",
              "4             0.446997  "
            ],
            "text/html": [
              "\n",
              "  <div id=\"df-14532661-0b9a-4146-875d-83905d8bae00\">\n",
              "    <div class=\"colab-df-container\">\n",
              "      <div>\n",
              "<style scoped>\n",
              "    .dataframe tbody tr th:only-of-type {\n",
              "        vertical-align: middle;\n",
              "    }\n",
              "\n",
              "    .dataframe tbody tr th {\n",
              "        vertical-align: top;\n",
              "    }\n",
              "\n",
              "    .dataframe thead th {\n",
              "        text-align: right;\n",
              "    }\n",
              "</style>\n",
              "<table border=\"1\" class=\"dataframe\">\n",
              "  <thead>\n",
              "    <tr style=\"text-align: right;\">\n",
              "      <th></th>\n",
              "      <th>publication_id</th>\n",
              "      <th>country</th>\n",
              "      <th>english_names</th>\n",
              "      <th>english_first_names</th>\n",
              "      <th>inventor_country</th>\n",
              "      <th>worldwide_application</th>\n",
              "      <th>original_names</th>\n",
              "      <th>year</th>\n",
              "      <th>english_gender</th>\n",
              "      <th>chinese_gender</th>\n",
              "      <th>chinese_gender_prob</th>\n",
              "    </tr>\n",
              "  </thead>\n",
              "  <tbody>\n",
              "    <tr>\n",
              "      <th>0</th>\n",
              "      <td>US06838490</td>\n",
              "      <td>CN</td>\n",
              "      <td>Zhang Xiaohong</td>\n",
              "      <td>Xiaohong</td>\n",
              "      <td>CN</td>\n",
              "      <td>CN1239577C/en</td>\n",
              "      <td>张晓红</td>\n",
              "      <td>2005</td>\n",
              "      <td>unknown</td>\n",
              "      <td>F</td>\n",
              "      <td>0.783984</td>\n",
              "    </tr>\n",
              "    <tr>\n",
              "      <th>1</th>\n",
              "      <td>US06838490</td>\n",
              "      <td>CN</td>\n",
              "      <td>Qiao Jinliang</td>\n",
              "      <td>Jinliang</td>\n",
              "      <td>CN</td>\n",
              "      <td>CN1239577C/en</td>\n",
              "      <td>乔金梁</td>\n",
              "      <td>2005</td>\n",
              "      <td>unknown</td>\n",
              "      <td>M</td>\n",
              "      <td>0.984577</td>\n",
              "    </tr>\n",
              "    <tr>\n",
              "      <th>2</th>\n",
              "      <td>US06838490</td>\n",
              "      <td>CN</td>\n",
              "      <td>Wei Genshuan</td>\n",
              "      <td>Genshuan</td>\n",
              "      <td>CN</td>\n",
              "      <td>CN1239577C/en</td>\n",
              "      <td>魏根栓</td>\n",
              "      <td>2005</td>\n",
              "      <td>unknown</td>\n",
              "      <td>M</td>\n",
              "      <td>0.978642</td>\n",
              "    </tr>\n",
              "    <tr>\n",
              "      <th>3</th>\n",
              "      <td>US06838490</td>\n",
              "      <td>CN</td>\n",
              "      <td>Gao Jianming</td>\n",
              "      <td>Jianming</td>\n",
              "      <td>CN</td>\n",
              "      <td>CN1239577C/en</td>\n",
              "      <td>高建明</td>\n",
              "      <td>2005</td>\n",
              "      <td>unknown</td>\n",
              "      <td>M</td>\n",
              "      <td>0.938999</td>\n",
              "    </tr>\n",
              "    <tr>\n",
              "      <th>4</th>\n",
              "      <td>US06838490</td>\n",
              "      <td>CN</td>\n",
              "      <td>Liu Yiqun</td>\n",
              "      <td>Yiqun</td>\n",
              "      <td>CN</td>\n",
              "      <td>CN1239577C/en</td>\n",
              "      <td>刘轶群</td>\n",
              "      <td>2005</td>\n",
              "      <td>unknown</td>\n",
              "      <td>M</td>\n",
              "      <td>0.446997</td>\n",
              "    </tr>\n",
              "  </tbody>\n",
              "</table>\n",
              "</div>\n",
              "      <button class=\"colab-df-convert\" onclick=\"convertToInteractive('df-14532661-0b9a-4146-875d-83905d8bae00')\"\n",
              "              title=\"Convert this dataframe to an interactive table.\"\n",
              "              style=\"display:none;\">\n",
              "        \n",
              "  <svg xmlns=\"http://www.w3.org/2000/svg\" height=\"24px\"viewBox=\"0 0 24 24\"\n",
              "       width=\"24px\">\n",
              "    <path d=\"M0 0h24v24H0V0z\" fill=\"none\"/>\n",
              "    <path d=\"M18.56 5.44l.94 2.06.94-2.06 2.06-.94-2.06-.94-.94-2.06-.94 2.06-2.06.94zm-11 1L8.5 8.5l.94-2.06 2.06-.94-2.06-.94L8.5 2.5l-.94 2.06-2.06.94zm10 10l.94 2.06.94-2.06 2.06-.94-2.06-.94-.94-2.06-.94 2.06-2.06.94z\"/><path d=\"M17.41 7.96l-1.37-1.37c-.4-.4-.92-.59-1.43-.59-.52 0-1.04.2-1.43.59L10.3 9.45l-7.72 7.72c-.78.78-.78 2.05 0 2.83L4 21.41c.39.39.9.59 1.41.59.51 0 1.02-.2 1.41-.59l7.78-7.78 2.81-2.81c.8-.78.8-2.07 0-2.86zM5.41 20L4 18.59l7.72-7.72 1.47 1.35L5.41 20z\"/>\n",
              "  </svg>\n",
              "      </button>\n",
              "      \n",
              "  <style>\n",
              "    .colab-df-container {\n",
              "      display:flex;\n",
              "      flex-wrap:wrap;\n",
              "      gap: 12px;\n",
              "    }\n",
              "\n",
              "    .colab-df-convert {\n",
              "      background-color: #E8F0FE;\n",
              "      border: none;\n",
              "      border-radius: 50%;\n",
              "      cursor: pointer;\n",
              "      display: none;\n",
              "      fill: #1967D2;\n",
              "      height: 32px;\n",
              "      padding: 0 0 0 0;\n",
              "      width: 32px;\n",
              "    }\n",
              "\n",
              "    .colab-df-convert:hover {\n",
              "      background-color: #E2EBFA;\n",
              "      box-shadow: 0px 1px 2px rgba(60, 64, 67, 0.3), 0px 1px 3px 1px rgba(60, 64, 67, 0.15);\n",
              "      fill: #174EA6;\n",
              "    }\n",
              "\n",
              "    [theme=dark] .colab-df-convert {\n",
              "      background-color: #3B4455;\n",
              "      fill: #D2E3FC;\n",
              "    }\n",
              "\n",
              "    [theme=dark] .colab-df-convert:hover {\n",
              "      background-color: #434B5C;\n",
              "      box-shadow: 0px 1px 3px 1px rgba(0, 0, 0, 0.15);\n",
              "      filter: drop-shadow(0px 1px 2px rgba(0, 0, 0, 0.3));\n",
              "      fill: #FFFFFF;\n",
              "    }\n",
              "  </style>\n",
              "\n",
              "      <script>\n",
              "        const buttonEl =\n",
              "          document.querySelector('#df-14532661-0b9a-4146-875d-83905d8bae00 button.colab-df-convert');\n",
              "        buttonEl.style.display =\n",
              "          google.colab.kernel.accessAllowed ? 'block' : 'none';\n",
              "\n",
              "        async function convertToInteractive(key) {\n",
              "          const element = document.querySelector('#df-14532661-0b9a-4146-875d-83905d8bae00');\n",
              "          const dataTable =\n",
              "            await google.colab.kernel.invokeFunction('convertToInteractive',\n",
              "                                                     [key], {});\n",
              "          if (!dataTable) return;\n",
              "\n",
              "          const docLinkHtml = 'Like what you see? Visit the ' +\n",
              "            '<a target=\"_blank\" href=https://colab.research.google.com/notebooks/data_table.ipynb>data table notebook</a>'\n",
              "            + ' to learn more about interactive tables.';\n",
              "          element.innerHTML = '';\n",
              "          dataTable['output_type'] = 'display_data';\n",
              "          await google.colab.output.renderOutput(dataTable, element);\n",
              "          const docLink = document.createElement('div');\n",
              "          docLink.innerHTML = docLinkHtml;\n",
              "          element.appendChild(docLink);\n",
              "        }\n",
              "      </script>\n",
              "    </div>\n",
              "  </div>\n",
              "  "
            ]
          },
          "metadata": {},
          "execution_count": 41
        }
      ]
    },
    {
      "cell_type": "code",
      "source": [
        "# AVG probabilities \n",
        "gender_probs = df.groupby([\"chinese_gender\"]).mean()\n",
        "gender_probs.drop(columns=[\"year\"])"
      ],
      "metadata": {
        "colab": {
          "base_uri": "https://localhost:8080/",
          "height": 204
        },
        "id": "3YM4Xefa7QCI",
        "outputId": "e0a2cb21-844b-46be-eec8-ad1c061ed125"
      },
      "execution_count": 42,
      "outputs": [
        {
          "output_type": "execute_result",
          "data": {
            "text/plain": [
              "                chinese_gender_prob\n",
              "chinese_gender                     \n",
              "F                          0.849343\n",
              "M                          0.902968\n",
              "M=F=Undefined              0.333333\n",
              "Undefined                  0.837625"
            ],
            "text/html": [
              "\n",
              "  <div id=\"df-8dd37782-4819-4263-b39b-a9ca8d11e428\">\n",
              "    <div class=\"colab-df-container\">\n",
              "      <div>\n",
              "<style scoped>\n",
              "    .dataframe tbody tr th:only-of-type {\n",
              "        vertical-align: middle;\n",
              "    }\n",
              "\n",
              "    .dataframe tbody tr th {\n",
              "        vertical-align: top;\n",
              "    }\n",
              "\n",
              "    .dataframe thead th {\n",
              "        text-align: right;\n",
              "    }\n",
              "</style>\n",
              "<table border=\"1\" class=\"dataframe\">\n",
              "  <thead>\n",
              "    <tr style=\"text-align: right;\">\n",
              "      <th></th>\n",
              "      <th>chinese_gender_prob</th>\n",
              "    </tr>\n",
              "    <tr>\n",
              "      <th>chinese_gender</th>\n",
              "      <th></th>\n",
              "    </tr>\n",
              "  </thead>\n",
              "  <tbody>\n",
              "    <tr>\n",
              "      <th>F</th>\n",
              "      <td>0.849343</td>\n",
              "    </tr>\n",
              "    <tr>\n",
              "      <th>M</th>\n",
              "      <td>0.902968</td>\n",
              "    </tr>\n",
              "    <tr>\n",
              "      <th>M=F=Undefined</th>\n",
              "      <td>0.333333</td>\n",
              "    </tr>\n",
              "    <tr>\n",
              "      <th>Undefined</th>\n",
              "      <td>0.837625</td>\n",
              "    </tr>\n",
              "  </tbody>\n",
              "</table>\n",
              "</div>\n",
              "      <button class=\"colab-df-convert\" onclick=\"convertToInteractive('df-8dd37782-4819-4263-b39b-a9ca8d11e428')\"\n",
              "              title=\"Convert this dataframe to an interactive table.\"\n",
              "              style=\"display:none;\">\n",
              "        \n",
              "  <svg xmlns=\"http://www.w3.org/2000/svg\" height=\"24px\"viewBox=\"0 0 24 24\"\n",
              "       width=\"24px\">\n",
              "    <path d=\"M0 0h24v24H0V0z\" fill=\"none\"/>\n",
              "    <path d=\"M18.56 5.44l.94 2.06.94-2.06 2.06-.94-2.06-.94-.94-2.06-.94 2.06-2.06.94zm-11 1L8.5 8.5l.94-2.06 2.06-.94-2.06-.94L8.5 2.5l-.94 2.06-2.06.94zm10 10l.94 2.06.94-2.06 2.06-.94-2.06-.94-.94-2.06-.94 2.06-2.06.94z\"/><path d=\"M17.41 7.96l-1.37-1.37c-.4-.4-.92-.59-1.43-.59-.52 0-1.04.2-1.43.59L10.3 9.45l-7.72 7.72c-.78.78-.78 2.05 0 2.83L4 21.41c.39.39.9.59 1.41.59.51 0 1.02-.2 1.41-.59l7.78-7.78 2.81-2.81c.8-.78.8-2.07 0-2.86zM5.41 20L4 18.59l7.72-7.72 1.47 1.35L5.41 20z\"/>\n",
              "  </svg>\n",
              "      </button>\n",
              "      \n",
              "  <style>\n",
              "    .colab-df-container {\n",
              "      display:flex;\n",
              "      flex-wrap:wrap;\n",
              "      gap: 12px;\n",
              "    }\n",
              "\n",
              "    .colab-df-convert {\n",
              "      background-color: #E8F0FE;\n",
              "      border: none;\n",
              "      border-radius: 50%;\n",
              "      cursor: pointer;\n",
              "      display: none;\n",
              "      fill: #1967D2;\n",
              "      height: 32px;\n",
              "      padding: 0 0 0 0;\n",
              "      width: 32px;\n",
              "    }\n",
              "\n",
              "    .colab-df-convert:hover {\n",
              "      background-color: #E2EBFA;\n",
              "      box-shadow: 0px 1px 2px rgba(60, 64, 67, 0.3), 0px 1px 3px 1px rgba(60, 64, 67, 0.15);\n",
              "      fill: #174EA6;\n",
              "    }\n",
              "\n",
              "    [theme=dark] .colab-df-convert {\n",
              "      background-color: #3B4455;\n",
              "      fill: #D2E3FC;\n",
              "    }\n",
              "\n",
              "    [theme=dark] .colab-df-convert:hover {\n",
              "      background-color: #434B5C;\n",
              "      box-shadow: 0px 1px 3px 1px rgba(0, 0, 0, 0.15);\n",
              "      filter: drop-shadow(0px 1px 2px rgba(0, 0, 0, 0.3));\n",
              "      fill: #FFFFFF;\n",
              "    }\n",
              "  </style>\n",
              "\n",
              "      <script>\n",
              "        const buttonEl =\n",
              "          document.querySelector('#df-8dd37782-4819-4263-b39b-a9ca8d11e428 button.colab-df-convert');\n",
              "        buttonEl.style.display =\n",
              "          google.colab.kernel.accessAllowed ? 'block' : 'none';\n",
              "\n",
              "        async function convertToInteractive(key) {\n",
              "          const element = document.querySelector('#df-8dd37782-4819-4263-b39b-a9ca8d11e428');\n",
              "          const dataTable =\n",
              "            await google.colab.kernel.invokeFunction('convertToInteractive',\n",
              "                                                     [key], {});\n",
              "          if (!dataTable) return;\n",
              "\n",
              "          const docLinkHtml = 'Like what you see? Visit the ' +\n",
              "            '<a target=\"_blank\" href=https://colab.research.google.com/notebooks/data_table.ipynb>data table notebook</a>'\n",
              "            + ' to learn more about interactive tables.';\n",
              "          element.innerHTML = '';\n",
              "          dataTable['output_type'] = 'display_data';\n",
              "          await google.colab.output.renderOutput(dataTable, element);\n",
              "          const docLink = document.createElement('div');\n",
              "          docLink.innerHTML = docLinkHtml;\n",
              "          element.appendChild(docLink);\n",
              "        }\n",
              "      </script>\n",
              "    </div>\n",
              "  </div>\n",
              "  "
            ]
          },
          "metadata": {},
          "execution_count": 42
        }
      ]
    },
    {
      "cell_type": "code",
      "source": [
        "gender_nums = list(df[\"chinese_gender\"].value_counts())\n",
        "print(gender_nums)"
      ],
      "metadata": {
        "colab": {
          "base_uri": "https://localhost:8080/"
        },
        "id": "-iGAu65K32sk",
        "outputId": "4a07e2b8-6f51-4d07-9715-26d4d3e32732"
      },
      "execution_count": 17,
      "outputs": [
        {
          "output_type": "stream",
          "name": "stdout",
          "text": [
            "[99336, 22746, 2422, 177]\n"
          ]
        }
      ]
    },
    {
      "cell_type": "code",
      "execution_count": 18,
      "metadata": {
        "colab": {
          "base_uri": "https://localhost:8080/",
          "height": 281
        },
        "id": "wvCOOezN2SGP",
        "outputId": "c35f9cda-64ef-4ab0-a269-71c035321d56"
      },
      "outputs": [
        {
          "output_type": "display_data",
          "data": {
            "text/plain": [
              "<Figure size 432x288 with 1 Axes>"
            ],
            "image/png": "[encoded data removed]"
          },
          "metadata": {
            "needs_background": "light"
          }
        }
      ],
      "source": [
        "import matplotlib.pyplot as plt\n",
        "\n",
        "gender = ['Male', 'Female', 'Androgenous', 'Undefined']\n",
        "plt.title(\"Gender Distribution for Original CN Names\")\n",
        "plt.bar(gender, gender_nums)\n",
        "plt.show()"
      ]
    },
    {
      "cell_type": "code",
      "source": [
        "new_df = df[\"english_gender\"].value_counts()\n",
        "new_df"
      ],
      "metadata": {
        "colab": {
          "base_uri": "https://localhost:8080/"
        },
        "id": "c-7Sd4Ie561G",
        "outputId": "d4b25116-b0f7-4b53-8904-53673ce2a372"
      },
      "execution_count": 23,
      "outputs": [
        {
          "output_type": "execute_result",
          "data": {
            "text/plain": [
              "unknown          77700\n",
              "andy             37976\n",
              "male              4482\n",
              "mostly_male       2590\n",
              "female            1486\n",
              "mostly_female      447\n",
              "Name: english_gender, dtype: int64"
            ]
          },
          "metadata": {},
          "execution_count": 23
        }
      ]
    },
    {
      "cell_type": "code",
      "source": [
        "gender_nums = list(df[\"english_gender\"].value_counts())\n",
        "print(gender_nums)"
      ],
      "metadata": {
        "colab": {
          "base_uri": "https://localhost:8080/"
        },
        "id": "Z_7EWFV_4mQO",
        "outputId": "bfe65b63-2ffa-48d0-8b4b-b5c54a315aec"
      },
      "execution_count": 43,
      "outputs": [
        {
          "output_type": "stream",
          "name": "stdout",
          "text": [
            "[77700, 37976, 4482, 2590, 1486, 447]\n"
          ]
        }
      ]
    },
    {
      "cell_type": "code",
      "source": [
        "gender_nums = [77700, 37976, 4482+2590, 1486+447]"
      ],
      "metadata": {
        "id": "37nrENVl6cu9"
      },
      "execution_count": 44,
      "outputs": []
    },
    {
      "cell_type": "code",
      "source": [
        "gender = ['Unknown', 'Androgenous', 'Male', 'Female']\n",
        "plt.title(\"Gender Distribution for CN Names translated to EN Names\")\n",
        "plt.bar(gender, gender_nums)\n",
        "plt.show()"
      ],
      "metadata": {
        "colab": {
          "base_uri": "https://localhost:8080/",
          "height": 281
        },
        "id": "7HJQcbX75PnQ",
        "outputId": "97acee49-f196-423d-a9dc-e7be50b02cd6"
      },
      "execution_count": 45,
      "outputs": [
        {
          "output_type": "display_data",
          "data": {
            "text/plain": [
              "<Figure size 432x288 with 1 Axes>"
            ],
            "image/png": "[encoded data removed]"
          },
          "metadata": {
            "needs_background": "light"
          }
        }
      ]
    }
  ]
}